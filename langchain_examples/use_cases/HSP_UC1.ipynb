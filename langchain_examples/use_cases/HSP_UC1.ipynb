{
 "cells": [
  {
   "cell_type": "markdown",
   "id": "ec2d279e",
   "metadata": {},
   "source": [
    "### To Chat with a Text file that is stored locally\n",
    "\n",
    "Querying the documents with indexing only."
   ]
  },
  {
   "cell_type": "code",
   "execution_count": 16,
   "id": "eb9c4554-c42c-4c57-957a-1329909bc967",
   "metadata": {},
   "outputs": [],
   "source": [
    "import os\n",
    "import openai\n",
    "from dotenv import load_dotenv\n",
    "from langchain.llms import OpenAI\n",
    "from langchain_openai import ChatOpenAI\n",
    "from langchain_community.document_loaders import TextLoader\n",
    "from langchain.indexes import VectorstoreIndexCreator\n",
    "from langchain_openai import OpenAIEmbeddings"
   ]
  },
  {
   "cell_type": "code",
   "execution_count": 2,
   "id": "9c792938-f0e5-45f7-8d5e-94222969238c",
   "metadata": {},
   "outputs": [],
   "source": [
    "load_dotenv()\n",
    "openai.api_key = os.getenv(\"OPENAI_API_KEY\")"
   ]
  },
  {
   "cell_type": "code",
   "execution_count": 17,
   "id": "f47aac14-9bf6-4bf7-9afd-56b25e008f44",
   "metadata": {},
   "outputs": [],
   "source": [
    "loader = TextLoader(\"/home/sarthaksharma/Workpace/python/openai_playground/langchain_examples/Sample_Data/sample_doctors.txt\")\n",
    "text=loader.load()\n",
    "index = VectorstoreIndexCreator().from_loaders([loader])"
   ]
  },
  {
   "cell_type": "code",
   "execution_count": 18,
   "id": "adb3031e-6cdc-4edb-8559-4b28fdf13372",
   "metadata": {},
   "outputs": [],
   "source": [
    "query = \"I've pain in my bone, Which doctor should I visit? List me the name of doctors\""
   ]
  },
  {
   "cell_type": "code",
   "execution_count": 19,
   "id": "90296dc1-6b79-49b5-b790-788045ae7b03",
   "metadata": {},
   "outputs": [
    {
     "name": "stdout",
     "output_type": "stream",
     "text": [
      "If you have pain in your bone, you should visit an Orthopaedics specialist. Here is a list of Orthopaedics specialists you can consider visiting:\n",
      "\n",
      "1. Dr. Bharat Murthy\n",
      "2. Dr. Rahul Khanna\n",
      "3. Dr. Vikas Sharma\n"
     ]
    }
   ],
   "source": [
    "print(index.query(query, llm=ChatOpenAI(model=\"gpt-3.5-turbo\"))) # LLM wrapper"
   ]
  },
  {
   "cell_type": "code",
   "execution_count": 22,
   "id": "5d1dc0df-3d48-45db-9c78-1b2b27dde7d3",
   "metadata": {},
   "outputs": [],
   "source": [
    "query1=\"I want to have a dental implant, which doctor would you recommend?\""
   ]
  },
  {
   "cell_type": "code",
   "execution_count": 24,
   "id": "7f9843ac-fb53-4d23-ac32-db5024323205",
   "metadata": {},
   "outputs": [
    {
     "name": "stdout",
     "output_type": "stream",
     "text": [
      "I would recommend you to see Dr. Pikachu Mishra, who is a Dentist specializing in Dental care. Dr. Mishra's clinic hours are on Sunday, Wednesday, and Friday from 2:00 PM to 7:00 PM.\n"
     ]
    }
   ],
   "source": [
    "print(index.query(query1, llm=ChatOpenAI(model=\"gpt-3.5-turbo\")))"
   ]
  },
  {
   "cell_type": "code",
   "execution_count": 10,
   "id": "cbbeda17-2353-4a79-9267-07367da907e2",
   "metadata": {},
   "outputs": [],
   "source": [
    "query2=\"I want to get the bypass heart surgery done for my grandfather, please suggest me the available doctors to consult\""
   ]
  },
  {
   "cell_type": "code",
   "execution_count": 11,
   "id": "e8c80553-adc3-4ec5-abb0-849e7ce5cfe4",
   "metadata": {},
   "outputs": [
    {
     "name": "stderr",
     "output_type": "stream",
     "text": [
      "Number of requested results 4 is greater than number of elements in index 3, updating n_results = 3\n"
     ]
    },
    {
     "name": "stdout",
     "output_type": "stream",
     "text": [
      "Dr. Priya Sharma - Cardiology (Heart Specialist) - Phone Number: 9876543210\n",
      "Dr. Meena Reddy - Cardiology (Heart Specialist) - Phone Number: 8909876543\n",
      "Dr. Kavita Patel - Cardiology (Heart Specialist) - Phone Number: 6209876543\n",
      "Dr. Shreya Gupta - Cardiology (Heart Specialist) - Phone Number: 5309876543\n",
      "Dr. Reena Patel - Cardiology (Heart Specialist) - Phone Number: 8009876543\n",
      "Dr. Ashok Patel - Cardiology (Heart Specialist) - Phone Number: 7109876543\n",
      "\n",
      "These are the available doctors specializing in Cardiology (Heart Specialist) who you can consult for the bypass heart surgery for your grandfather.\n"
     ]
    }
   ],
   "source": [
    "print(index.query(query2, llm=ChatOpenAI()))"
   ]
  },
  {
   "cell_type": "code",
   "execution_count": 17,
   "id": "1664e899-71a8-4a06-b34e-ded12f7a09c0",
   "metadata": {},
   "outputs": [],
   "source": [
    "# Indexing for packages\n",
    "loader_packs = TextLoader(\"Sample_Data/sample_packages.txt\")\n",
    "text_packs=loader_packs.load()\n",
    "index_packs = VectorstoreIndexCreator().from_loaders([loader_packs])"
   ]
  },
  {
   "cell_type": "code",
   "execution_count": 18,
   "id": "b4835034-1d6e-4812-b125-982f7feb31ca",
   "metadata": {},
   "outputs": [],
   "source": [
    "query=\"I want to do a dental implant, what are the available costs\""
   ]
  },
  {
   "cell_type": "code",
   "execution_count": 20,
   "id": "20012f7e-34f4-49e8-ac74-ad171ce33f47",
   "metadata": {},
   "outputs": [
    {
     "name": "stdout",
     "output_type": "stream",
     "text": [
      "The cost of a dental implant is Rs. 5000.\n"
     ]
    }
   ],
   "source": [
    "print(index_packs.query(query, llm=ChatOpenAI()))"
   ]
  }
 ],
 "metadata": {
  "kernelspec": {
   "display_name": "Python 3 (ipykernel)",
   "language": "python",
   "name": "python3"
  },
  "language_info": {
   "codemirror_mode": {
    "name": "ipython",
    "version": 3
   },
   "file_extension": ".py",
   "mimetype": "text/x-python",
   "name": "python",
   "nbconvert_exporter": "python",
   "pygments_lexer": "ipython3",
   "version": "3.10.12"
  }
 },
 "nbformat": 4,
 "nbformat_minor": 5
}
