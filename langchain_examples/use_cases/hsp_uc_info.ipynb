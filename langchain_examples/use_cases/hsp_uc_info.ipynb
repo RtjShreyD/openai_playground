{
 "cells": [
  {
   "cell_type": "code",
   "execution_count": 2,
   "metadata": {},
   "outputs": [],
   "source": [
    "from langchain import OpenAI\n",
    "from langchain.document_loaders import TextLoader\n",
    "from langchain.text_splitter import CharacterTextSplitter\n",
    "from langchain.embeddings.openai import OpenAIEmbeddings\n",
    "from langchain.vectorstores import Chroma\n",
    "from langchain.chains import RetrievalQA\n",
    "from langchain.agents import initialize_agent, Tool, AgentType\n",
    "from langchain.chains.conversation.memory import ConversationBufferMemory\n",
    "from langchain.tools import BaseTool\n",
    "from pydantic import BaseModel, Field\n",
    "from typing import Optional, Type\n",
    "from datetime import datetime, timedelta\n",
    "from jinja2 import Template"
   ]
  },
  {
   "cell_type": "code",
   "execution_count": 3,
   "metadata": {},
   "outputs": [
    {
     "ename": "SyntaxError",
     "evalue": "invalid syntax (3562165906.py, line 2)",
     "output_type": "error",
     "traceback": [
      "\u001b[0;36m  Cell \u001b[0;32mIn[3], line 2\u001b[0;36m\u001b[0m\n\u001b[0;31m    from dotenv import load_dotenv()\u001b[0m\n\u001b[0m                                  ^\u001b[0m\n\u001b[0;31mSyntaxError\u001b[0m\u001b[0;31m:\u001b[0m invalid syntax\n"
     ]
    }
   ],
   "source": [
    "import os\n",
    "from dotenv import load_dotenv\n",
    "\n",
    "load_dotenv()\n",
    "\n",
    "OpenAI.api_key = os.getenv(\"OPENAI_API_KEY\")\n",
    "llm=OpenAI(temperature=0, verbose=False)"
   ]
  },
  {
   "cell_type": "code",
   "execution_count": 3,
   "metadata": {},
   "outputs": [],
   "source": [
    "# Loading the doctors list text file and splitting it into chunks\n",
    "text_document_path = \"Sample_Data/sample_doctors.txt\"  # Doctors list\n",
    "loader = TextLoader(text_document_path)\n",
    "documents = loader.load()\n",
    "text_splitter = CharacterTextSplitter(chunk_size=1000, chunk_overlap=50)\n",
    "texts = text_splitter.split_documents(documents)"
   ]
  },
  {
   "cell_type": "code",
   "execution_count": 4,
   "metadata": {},
   "outputs": [],
   "source": [
    "# Creating embeddings for doctors list\n",
    "embeddings = OpenAIEmbeddings()\n",
    "docsearch = Chroma.from_documents(texts, embeddings, collection_name=\"names-of-doctors\")\n",
    "names_of_doctors = RetrievalQA.from_chain_type(llm=llm, chain_type=\"stuff\", retriever=docsearch.as_retriever())"
   ]
  },
  {
   "cell_type": "code",
   "execution_count": 5,
   "metadata": {},
   "outputs": [],
   "source": [
    "# Loading the packages list text file and splitting it into chunks\n",
    "text_document_path = \"Sample_Data/sample_packages.txt\"  # Packages list\n",
    "loader = TextLoader(text_document_path)\n",
    "documents = loader.load()\n",
    "text_splitter = CharacterTextSplitter(chunk_size=1000, chunk_overlap=50)\n",
    "texts = text_splitter.split_documents(documents)"
   ]
  },
  {
   "cell_type": "code",
   "execution_count": 6,
   "metadata": {},
   "outputs": [],
   "source": [
    "# Creating embeddings for packages list\n",
    "embeddings = OpenAIEmbeddings()\n",
    "packagesearch = Chroma.from_documents(texts, embeddings, collection_name=\"names-of-packages\")\n",
    "info_of_packages = RetrievalQA.from_chain_type(llm=llm, chain_type=\"stuff\", retriever=packagesearch.as_retriever())"
   ]
  },
  {
   "cell_type": "code",
   "execution_count": 7,
   "metadata": {},
   "outputs": [],
   "source": [
    "# Initializing the Tools\n",
    "tools=[Tool(\n",
    "        name=\"List of the doctors\",\n",
    "        func=names_of_doctors.run,\n",
    "        description=\"useful for when you need to answer questions about the most relevant names of doctors according to their specilisation.This list of doctors belong to XYZ hospital\",\n",
    "        ),\n",
    "        Tool(\n",
    "           name=\"List of the Packages\",\n",
    "           func=info_of_packages.run,\n",
    "           description=\"useful when you need to answer questions about the available medical facilities(/packages) available in the XYZ hospital\"\n",
    "       )]"
   ]
  },
  {
   "cell_type": "code",
   "execution_count": 8,
   "metadata": {},
   "outputs": [],
   "source": [
    "memory= ConversationBufferMemory(memory_key=\"chat_history\") # You can use other memory types as well!\n",
    "agent_chain = initialize_agent(tools, llm, agent=\"conversational-react-description\",memory=memory, verbose=True) # verbose=True to see the agent's thought process"
   ]
  },
  {
   "cell_type": "code",
   "execution_count": 9,
   "metadata": {},
   "outputs": [],
   "source": [
    "query=\"\"\"You are an inbound phone calling appointment scheduler bot. Your agenda is to manage the reception at XYZ clinic.\n",
    "You should collect all the *Necessary Information* of the individual you are talking with which is named as patient and schedule an doctor's appointment for the treatment which the patient wants and the type of doctor which patient wants to visit at \"XYZ\" Hospital. You should first greet the patient and ask his name.\n",
    "*Necessary Information*\n",
    "Issue they are having in the body\n",
    "Which type of doctor they want to visit\n",
    "What are the suitable timings and date for the patients\n",
    "\n",
    "Your available hospital timings are from 8:00 Am to 12:00 Pm everyday.\n",
    "But if patient has an emergency case then they can visit the hospital by paying the Emergency Fees, if patient wants to visit in emergency case then do tell them about the Emergency fees.\n",
    "\n",
    "*Hospital Description:*\n",
    "XYZ Hospital is a renowned hospital established in 1990. It is very famous from then till now.\n",
    "\n",
    "*Hospital Address*\n",
    "14 DownTown Road Sector-22 Noida\n",
    "\n",
    "Initiate the conversation with the following line: \"Hey there, I'm an AI receptionist at XYZ hospital\". Keep the conversation minimal and relevant to the topic.\n",
    "Follow this conversation in a very general manner, in the conversation that follows, please ensure that you ask one question at a time, including inquiries about problems of the patient, before proceeding with the next question, even if you don,t get all the information at once. After collecting Necessary information, you can proceed to ask about availability and schedule the interview accordingly.\n",
    "You must not ask patient about which type of doctor he should visit. You must think yourself on the basis of symptoms the patient told you.\n",
    "You must query the below tools to answer user queries. Try to give most answers from the tools provided. Do Not Generate Replies from outside world except XYZ hospital. All the questions are asked by the user ONLY with reference with XYZ hospital.\n",
    "\n",
    "You have got following tools initialized at your system- List of the doctors, List of the Packages.\n",
    ">If at any point you want to retrieve names and detials of doctors for particular issue - Use tool : List of the doctors\n",
    ">If at any point you want to retrieve names and detials of medical packages for particular issue - Use tool : List of the Packages\n",
    "\"\"\""
   ]
  },
  {
   "cell_type": "code",
   "execution_count": 10,
   "metadata": {},
   "outputs": [
    {
     "name": "stdout",
     "output_type": "stream",
     "text": [
      "\n",
      "\n",
      "\u001b[1m> Entering new AgentExecutor chain...\u001b[0m\n"
     ]
    },
    {
     "name": "stdout",
     "output_type": "stream",
     "text": [
      "\u001b[32;1m\u001b[1;3m\n",
      "Thought: Do I need to use a tool? No\n",
      "AI: Hi there, I'm an AI receptionist at XYZ hospital. How can I help you today?\u001b[0m\n",
      "\n",
      "\u001b[1m> Finished chain.\u001b[0m\n",
      "Hi there, I'm an AI receptionist at XYZ hospital. How can I help you today?\n"
     ]
    }
   ],
   "source": [
    "print(agent_chain.run(query))"
   ]
  },
  {
   "cell_type": "code",
   "execution_count": 11,
   "metadata": {},
   "outputs": [
    {
     "name": "stdout",
     "output_type": "stream",
     "text": [
      "\n",
      "\n",
      "\u001b[1m> Entering new AgentExecutor chain...\u001b[0m\n",
      "\u001b[32;1m\u001b[1;3m\n",
      "Thought: Do I need to use a tool? Yes\n",
      "Action: List of the Packages\n",
      "Action Input: Dental Care\u001b[0m"
     ]
    },
    {
     "name": "stderr",
     "output_type": "stream",
     "text": [
      "Number of requested results 4 is greater than number of elements in index 1, updating n_results = 1\n"
     ]
    },
    {
     "name": "stdout",
     "output_type": "stream",
     "text": [
      "\n",
      "Observation: \u001b[33;1m\u001b[1;3m Dental implants, dental crowns, dental braces, and other dental care treatments can cost anywhere from Rs. 3000 to Rs. 8000.\u001b[0m\n",
      "Thought:\u001b[32;1m\u001b[1;3m Do I need to use a tool? No\n",
      "AI: We offer a variety of dental care packages at XYZ hospital. Our packages include dental implants, dental crowns, dental braces, and other dental care treatments. Prices range from Rs. 3000 to Rs. 8000. Is there anything else I can help you with?\u001b[0m\n",
      "\n",
      "\u001b[1m> Finished chain.\u001b[0m\n"
     ]
    },
    {
     "data": {
      "text/plain": [
       "'We offer a variety of dental care packages at XYZ hospital. Our packages include dental implants, dental crowns, dental braces, and other dental care treatments. Prices range from Rs. 3000 to Rs. 8000. Is there anything else I can help you with?'"
      ]
     },
     "execution_count": 11,
     "metadata": {},
     "output_type": "execute_result"
    }
   ],
   "source": [
    "agent_chain.run(\"Hi, I want to know about the dental care treatment packages available at your premises.\")"
   ]
  },
  {
   "cell_type": "code",
   "execution_count": null,
   "metadata": {},
   "outputs": [],
   "source": []
  }
 ],
 "metadata": {
  "kernelspec": {
   "display_name": "openai-env",
   "language": "python",
   "name": "python3"
  },
  "language_info": {
   "codemirror_mode": {
    "name": "ipython",
    "version": 3
   },
   "file_extension": ".py",
   "mimetype": "text/x-python",
   "name": "python",
   "nbconvert_exporter": "python",
   "pygments_lexer": "ipython3",
   "version": "3.10.12"
  },
  "orig_nbformat": 4
 },
 "nbformat": 4,
 "nbformat_minor": 2
}
