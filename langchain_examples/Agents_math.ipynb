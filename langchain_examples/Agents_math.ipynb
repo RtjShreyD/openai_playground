{
 "cells": [
  {
   "cell_type": "code",
   "execution_count": 1,
   "id": "83a407dd-3b4d-43cc-bbf2-0d426955fd9b",
   "metadata": {},
   "outputs": [
    {
     "name": "stdout",
     "output_type": "stream",
     "text": [
      "\n",
      "\n",
      "\u001b[1m> Entering new AgentExecutor chain...\u001b[0m\n",
      "\u001b[32;1m\u001b[1;3m I need to use multiplication\n",
      "Action: Calculator\n",
      "Action Input: 15 * 15\u001b[0m\n",
      "Observation: \u001b[36;1m\u001b[1;3mAnswer: 225\u001b[0m\n",
      "Thought:\u001b[32;1m\u001b[1;3m I now know the final answer\n",
      "Final Answer: 15 multiplied by 15 is 225.\u001b[0m\n",
      "\n",
      "\u001b[1m> Finished chain.\u001b[0m\n"
     ]
    },
    {
     "data": {
      "text/plain": [
       "'15 multiplied by 15 is 225.'"
      ]
     },
     "execution_count": 1,
     "metadata": {},
     "output_type": "execute_result"
    }
   ],
   "source": [
    "import os\n",
    "from dotenv import load_dotenv\n",
    "import openai\n",
    "from langchain.agents import initialize_agent  #initialize the agents from langchain.agents\n",
    "from langchain.agents import load_tools        #Loading the tools from langchain.agents\n",
    "from langchain.llms import OpenAI\n",
    "#llm =_OpenAI()\n",
    "load_dotenv()\n",
    "openai.api_key =os.getenv(\"OPENAI_API_KEY\")    #your openai_api_key\n",
    "llm =OpenAI()\n",
    "tool_names=[\"llm-math\"]                        #we are using math model of llm for calculations\n",
    "tools=load_tools(tool_names, llm=llm)\n",
    "\n",
    "agent= initialize_agent(\n",
    "    tools=tools, llm=llm, agent=\"zero-shot-react-description\", verbose=True\n",
    ")\n",
    "agent.run(\"What is 15 multiplied by 15\")   #prompt to be provided that what basically you want from AI to provide you back."
   ]
  },
  {
   "cell_type": "code",
   "execution_count": null,
   "id": "16ff6e6d-6dd1-4edf-b53f-4a4f80285ccf",
   "metadata": {},
   "outputs": [],
   "source": []
  }
 ],
 "metadata": {
  "kernelspec": {
   "display_name": "Python 3 (ipykernel)",
   "language": "python",
   "name": "python3"
  },
  "language_info": {
   "codemirror_mode": {
    "name": "ipython",
    "version": 3
   },
   "file_extension": ".py",
   "mimetype": "text/x-python",
   "name": "python",
   "nbconvert_exporter": "python",
   "pygments_lexer": "ipython3",
   "version": "3.9.0"
  }
 },
 "nbformat": 4,
 "nbformat_minor": 5
}
